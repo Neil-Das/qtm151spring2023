{
 "cells": [
  {
   "cell_type": "code",
   "execution_count": 214,
   "metadata": {},
   "outputs": [],
   "source": [
    "import pandas as pd\n",
    "import matplotlib.pyplot as plt\n",
    "import matplotlib.dates as mdates\n",
    "from datetime import date, time, datetime \n",
    "import numpy as np"
   ]
  },
  {
   "cell_type": "code",
   "execution_count": 215,
   "metadata": {},
   "outputs": [],
   "source": [
    "circuits = pd.read_csv(\"data_raw/circuits.csv\") \n",
    "races = pd.read_csv(\"data_raw/races.csv\")\n",
    "constructor_standings = pd.read_csv(\"data_raw/constructor_standings.csv\")\n",
    "constructors = pd.read_csv(\"data_raw/constructors.csv\")"
   ]
  },
  {
   "cell_type": "code",
   "execution_count": 216,
   "metadata": {},
   "outputs": [],
   "source": [
    "\n",
    "races_circuits = pd.merge(races[[\"circuitId\", \"raceId\", \"date\"]],\n",
    "                          circuits[[\"circuitId\", \"name\", \"alt\"]],\n",
    "                          on='circuitId',\n",
    "                          how='left')\n",
    "\n",
    "races_circuits_constructor = pd.merge(races_circuits,\n",
    "                    constructor_standings[[\"raceId\", \"points\", \"constructorId\"]],\n",
    "                    on=\"raceId\",\n",
    "                    how='left')\n",
    "\n",
    "final_df = pd.merge(races_circuits_constructor,\n",
    "                    constructors[[\"constructorId\", \"name\"]],\n",
    "                    on=\"constructorId\",\n",
    "                    how='left')\n",
    "\n",
    "\n",
    "\n"
   ]
  },
  {
   "cell_type": "code",
   "execution_count": 217,
   "metadata": {},
   "outputs": [],
   "source": [
    "final_df[\"alt_num\"] = pd.to_numeric(final_df[\"alt\"], \"coerce\")\n",
    "final_df[\"date_parse\"] = pd.to_datetime(final_df[\"date\"], format=\"%Y-%m-%d\")"
   ]
  },
  {
   "cell_type": "code",
   "execution_count": 218,
   "metadata": {},
   "outputs": [
    {
     "data": {
      "text/plain": [
       "circuitId                    int64\n",
       "raceId                       int64\n",
       "date                        object\n",
       "circuit_name                object\n",
       "alt                         object\n",
       "points                     float64\n",
       "constructorId              float64\n",
       "constructor_name            object\n",
       "alt_num                    float64\n",
       "date_parse          datetime64[ns]\n",
       "dtype: object"
      ]
     },
     "execution_count": 218,
     "metadata": {},
     "output_type": "execute_result"
    }
   ],
   "source": [
    "final_df = final_df.rename(columns={'name_x': 'circuit_name', 'name_y':'constructor_name'})\n",
    "final_df.dtypes"
   ]
  },
  {
   "cell_type": "code",
   "execution_count": 219,
   "metadata": {},
   "outputs": [
    {
     "data": {
      "text/html": [
       "<div>\n",
       "<style scoped>\n",
       "    .dataframe tbody tr th:only-of-type {\n",
       "        vertical-align: middle;\n",
       "    }\n",
       "\n",
       "    .dataframe tbody tr th {\n",
       "        vertical-align: top;\n",
       "    }\n",
       "\n",
       "    .dataframe thead th {\n",
       "        text-align: right;\n",
       "    }\n",
       "</style>\n",
       "<table border=\"1\" class=\"dataframe\">\n",
       "  <thead>\n",
       "    <tr style=\"text-align: right;\">\n",
       "      <th></th>\n",
       "      <th>avg_points</th>\n",
       "    </tr>\n",
       "    <tr>\n",
       "      <th>constructor_name</th>\n",
       "      <th></th>\n",
       "    </tr>\n",
       "  </thead>\n",
       "  <tbody>\n",
       "    <tr>\n",
       "      <th>Mercedes</th>\n",
       "      <td>276.186538</td>\n",
       "    </tr>\n",
       "    <tr>\n",
       "      <th>Red Bull</th>\n",
       "      <td>186.742816</td>\n",
       "    </tr>\n",
       "    <tr>\n",
       "      <th>Brawn</th>\n",
       "      <td>103.058824</td>\n",
       "    </tr>\n",
       "    <tr>\n",
       "      <th>Lotus F1</th>\n",
       "      <td>97.207792</td>\n",
       "    </tr>\n",
       "    <tr>\n",
       "      <th>Ferrari</th>\n",
       "      <td>89.046397</td>\n",
       "    </tr>\n",
       "    <tr>\n",
       "      <th>...</th>\n",
       "      <td>...</td>\n",
       "    </tr>\n",
       "    <tr>\n",
       "      <th>Gilby</th>\n",
       "      <td>0.000000</td>\n",
       "    </tr>\n",
       "    <tr>\n",
       "      <th>Merzario</th>\n",
       "      <td>0.000000</td>\n",
       "    </tr>\n",
       "    <tr>\n",
       "      <th>HRT</th>\n",
       "      <td>0.000000</td>\n",
       "    </tr>\n",
       "    <tr>\n",
       "      <th>JBW</th>\n",
       "      <td>0.000000</td>\n",
       "    </tr>\n",
       "    <tr>\n",
       "      <th>Life</th>\n",
       "      <td>0.000000</td>\n",
       "    </tr>\n",
       "  </tbody>\n",
       "</table>\n",
       "<p>159 rows × 1 columns</p>\n",
       "</div>"
      ],
      "text/plain": [
       "                  avg_points\n",
       "constructor_name            \n",
       "Mercedes          276.186538\n",
       "Red Bull          186.742816\n",
       "Brawn             103.058824\n",
       "Lotus F1           97.207792\n",
       "Ferrari            89.046397\n",
       "...                      ...\n",
       "Gilby               0.000000\n",
       "Merzario            0.000000\n",
       "HRT                 0.000000\n",
       "JBW                 0.000000\n",
       "Life                0.000000\n",
       "\n",
       "[159 rows x 1 columns]"
      ]
     },
     "execution_count": 219,
     "metadata": {},
     "output_type": "execute_result"
    }
   ],
   "source": [
    "final_df.groupby(\"constructor_name\").agg(avg_points = (\"points\", \"mean\")).sort_values(by=\"avg_points\", ascending=False)"
   ]
  },
  {
   "cell_type": "code",
   "execution_count": 229,
   "metadata": {},
   "outputs": [],
   "source": [
    "mercedes = final_df.query(\"constructor_name == 'Mercedes'\")\n",
    "mercedes_agg = (mercedes.groupby(\"circuit_name\")\n",
    "                        .agg(avg_points = (\"points\", \"mean\"), \n",
    "                             avg_alt = (\"alt_num\", \"mean\"))\n",
    "                        .sort_values(by=\"avg_alt\", ascending=True))"
   ]
  },
  {
   "cell_type": "code",
   "execution_count": 230,
   "metadata": {},
   "outputs": [],
   "source": [
    "mercedes_agg[\"diff_points\"] = mercedes_agg[\"avg_points\"].diff()\n",
    "mercedes_agg[\"lag_points\"]    = mercedes_agg[\"avg_points\"].shift(1)\n",
    "mercedes_agg[\"growth_points\"] = mercedes_agg[\"diff_points\"]* 100/mercedes_agg[\"lag_points\"]\n"
   ]
  },
  {
   "cell_type": "code",
   "execution_count": 231,
   "metadata": {},
   "outputs": [],
   "source": [
    "mercedes_agg.replace([np.inf, -np.inf], np.nan, inplace=True)\n",
    "mercedes_agg.dropna(inplace=True)"
   ]
  },
  {
   "cell_type": "code",
   "execution_count": 232,
   "metadata": {},
   "outputs": [
    {
     "data": {
      "text/html": [
       "<div>\n",
       "<style scoped>\n",
       "    .dataframe tbody tr th:only-of-type {\n",
       "        vertical-align: middle;\n",
       "    }\n",
       "\n",
       "    .dataframe tbody tr th {\n",
       "        vertical-align: top;\n",
       "    }\n",
       "\n",
       "    .dataframe thead th {\n",
       "        text-align: right;\n",
       "    }\n",
       "</style>\n",
       "<table border=\"1\" class=\"dataframe\">\n",
       "  <thead>\n",
       "    <tr style=\"text-align: right;\">\n",
       "      <th></th>\n",
       "      <th>avg_points</th>\n",
       "      <th>avg_alt</th>\n",
       "      <th>diff_points</th>\n",
       "      <th>lag_points</th>\n",
       "      <th>growth_points</th>\n",
       "    </tr>\n",
       "  </thead>\n",
       "  <tbody>\n",
       "    <tr>\n",
       "      <th>count</th>\n",
       "      <td>31.000000</td>\n",
       "      <td>31.000000</td>\n",
       "      <td>31.000000</td>\n",
       "      <td>31.000000</td>\n",
       "      <td>31.000000</td>\n",
       "    </tr>\n",
       "    <tr>\n",
       "      <th>mean</th>\n",
       "      <td>273.803229</td>\n",
       "      <td>223.548387</td>\n",
       "      <td>12.765745</td>\n",
       "      <td>261.037484</td>\n",
       "      <td>36.542355</td>\n",
       "    </tr>\n",
       "    <tr>\n",
       "      <th>std</th>\n",
       "      <td>133.985065</td>\n",
       "      <td>427.062278</td>\n",
       "      <td>157.808960</td>\n",
       "      <td>122.270760</td>\n",
       "      <td>123.343986</td>\n",
       "    </tr>\n",
       "    <tr>\n",
       "      <th>min</th>\n",
       "      <td>28.545455</td>\n",
       "      <td>0.000000</td>\n",
       "      <td>-434.858974</td>\n",
       "      <td>28.545455</td>\n",
       "      <td>-83.435417</td>\n",
       "    </tr>\n",
       "    <tr>\n",
       "      <th>25%</th>\n",
       "      <td>184.477273</td>\n",
       "      <td>8.500000</td>\n",
       "      <td>-78.355020</td>\n",
       "      <td>183.416667</td>\n",
       "      <td>-22.536010</td>\n",
       "    </tr>\n",
       "    <tr>\n",
       "      <th>50%</th>\n",
       "      <td>265.875000</td>\n",
       "      <td>103.000000</td>\n",
       "      <td>0.166667</td>\n",
       "      <td>255.750000</td>\n",
       "      <td>0.090909</td>\n",
       "    </tr>\n",
       "    <tr>\n",
       "      <th>75%</th>\n",
       "      <td>342.221154</td>\n",
       "      <td>224.500000</td>\n",
       "      <td>127.147727</td>\n",
       "      <td>332.096154</td>\n",
       "      <td>66.390560</td>\n",
       "    </tr>\n",
       "    <tr>\n",
       "      <th>max</th>\n",
       "      <td>579.071429</td>\n",
       "      <td>2227.000000</td>\n",
       "      <td>264.435714</td>\n",
       "      <td>521.192308</td>\n",
       "      <td>549.681529</td>\n",
       "    </tr>\n",
       "  </tbody>\n",
       "</table>\n",
       "</div>"
      ],
      "text/plain": [
       "       avg_points      avg_alt  diff_points  lag_points  growth_points\n",
       "count   31.000000    31.000000    31.000000   31.000000      31.000000\n",
       "mean   273.803229   223.548387    12.765745  261.037484      36.542355\n",
       "std    133.985065   427.062278   157.808960  122.270760     123.343986\n",
       "min     28.545455     0.000000  -434.858974   28.545455     -83.435417\n",
       "25%    184.477273     8.500000   -78.355020  183.416667     -22.536010\n",
       "50%    265.875000   103.000000     0.166667  255.750000       0.090909\n",
       "75%    342.221154   224.500000   127.147727  332.096154      66.390560\n",
       "max    579.071429  2227.000000   264.435714  521.192308     549.681529"
      ]
     },
     "execution_count": 232,
     "metadata": {},
     "output_type": "execute_result"
    }
   ],
   "source": [
    "mercedes_agg.describe()"
   ]
  },
  {
   "cell_type": "code",
   "execution_count": 233,
   "metadata": {},
   "outputs": [],
   "source": [
    "u = mercedes_agg['growth_points'].mean()\n",
    "sd = mercedes_agg['growth_points'].std()"
   ]
  },
  {
   "cell_type": "code",
   "execution_count": 235,
   "metadata": {},
   "outputs": [],
   "source": [
    "mercedes_agg['z_score'] = abs((mercedes_agg['growth_points']-u)/sd)\n",
    "mercedes_filter = mercedes_agg.query(\"z_score <= 3\")\n",
    "# mercedes_plot = mercedes_filter.groupby('avg_alt').agg(median_point_growth = (\"growth_points\", \"std\"))"
   ]
  },
  {
   "cell_type": "code",
   "execution_count": 239,
   "metadata": {},
   "outputs": [
    {
     "data": {
      "text/html": [
       "<div>\n",
       "<style scoped>\n",
       "    .dataframe tbody tr th:only-of-type {\n",
       "        vertical-align: middle;\n",
       "    }\n",
       "\n",
       "    .dataframe tbody tr th {\n",
       "        vertical-align: top;\n",
       "    }\n",
       "\n",
       "    .dataframe thead th {\n",
       "        text-align: right;\n",
       "    }\n",
       "</style>\n",
       "<table border=\"1\" class=\"dataframe\">\n",
       "  <thead>\n",
       "    <tr style=\"text-align: right;\">\n",
       "      <th></th>\n",
       "      <th>avg_points</th>\n",
       "      <th>avg_alt</th>\n",
       "      <th>diff_points</th>\n",
       "      <th>lag_points</th>\n",
       "      <th>growth_points</th>\n",
       "      <th>z_score</th>\n",
       "    </tr>\n",
       "  </thead>\n",
       "  <tbody>\n",
       "    <tr>\n",
       "      <th>count</th>\n",
       "      <td>30.000000</td>\n",
       "      <td>30.000000</td>\n",
       "      <td>30.000000</td>\n",
       "      <td>30.000000</td>\n",
       "      <td>30.000000</td>\n",
       "      <td>30.000000</td>\n",
       "    </tr>\n",
       "    <tr>\n",
       "      <th>mean</th>\n",
       "      <td>276.748185</td>\n",
       "      <td>230.566667</td>\n",
       "      <td>7.960967</td>\n",
       "      <td>268.787218</td>\n",
       "      <td>19.437716</td>\n",
       "      <td>0.508999</td>\n",
       "    </tr>\n",
       "    <tr>\n",
       "      <th>std</th>\n",
       "      <td>135.251267</td>\n",
       "      <td>432.540904</td>\n",
       "      <td>158.183673</td>\n",
       "      <td>116.360004</td>\n",
       "      <td>79.724374</td>\n",
       "      <td>0.411897</td>\n",
       "    </tr>\n",
       "    <tr>\n",
       "      <th>min</th>\n",
       "      <td>28.545455</td>\n",
       "      <td>0.000000</td>\n",
       "      <td>-434.858974</td>\n",
       "      <td>82.200000</td>\n",
       "      <td>-83.435417</td>\n",
       "      <td>0.056697</td>\n",
       "    </tr>\n",
       "    <tr>\n",
       "      <th>25%</th>\n",
       "      <td>187.125000</td>\n",
       "      <td>7.750000</td>\n",
       "      <td>-91.119068</td>\n",
       "      <td>183.988636</td>\n",
       "      <td>-25.244249</td>\n",
       "      <td>0.269051</td>\n",
       "    </tr>\n",
       "    <tr>\n",
       "      <th>50%</th>\n",
       "      <td>266.937500</td>\n",
       "      <td>105.500000</td>\n",
       "      <td>-1.983333</td>\n",
       "      <td>260.812500</td>\n",
       "      <td>-2.348368</td>\n",
       "      <td>0.430616</td>\n",
       "    </tr>\n",
       "    <tr>\n",
       "      <th>75%</th>\n",
       "      <td>343.735577</td>\n",
       "      <td>239.750000</td>\n",
       "      <td>124.969952</td>\n",
       "      <td>335.644231</td>\n",
       "      <td>55.493341</td>\n",
       "      <td>0.627663</td>\n",
       "    </tr>\n",
       "    <tr>\n",
       "      <th>max</th>\n",
       "      <td>579.071429</td>\n",
       "      <td>2227.000000</td>\n",
       "      <td>264.435714</td>\n",
       "      <td>521.192308</td>\n",
       "      <td>320.012165</td>\n",
       "      <td>2.298205</td>\n",
       "    </tr>\n",
       "  </tbody>\n",
       "</table>\n",
       "</div>"
      ],
      "text/plain": [
       "       avg_points      avg_alt  diff_points  lag_points  growth_points  \\\n",
       "count   30.000000    30.000000    30.000000   30.000000      30.000000   \n",
       "mean   276.748185   230.566667     7.960967  268.787218      19.437716   \n",
       "std    135.251267   432.540904   158.183673  116.360004      79.724374   \n",
       "min     28.545455     0.000000  -434.858974   82.200000     -83.435417   \n",
       "25%    187.125000     7.750000   -91.119068  183.988636     -25.244249   \n",
       "50%    266.937500   105.500000    -1.983333  260.812500      -2.348368   \n",
       "75%    343.735577   239.750000   124.969952  335.644231      55.493341   \n",
       "max    579.071429  2227.000000   264.435714  521.192308     320.012165   \n",
       "\n",
       "         z_score  \n",
       "count  30.000000  \n",
       "mean    0.508999  \n",
       "std     0.411897  \n",
       "min     0.056697  \n",
       "25%     0.269051  \n",
       "50%     0.430616  \n",
       "75%     0.627663  \n",
       "max     2.298205  "
      ]
     },
     "execution_count": 239,
     "metadata": {},
     "output_type": "execute_result"
    }
   ],
   "source": [
    "mercedes_filter.describe()"
   ]
  },
  {
   "cell_type": "code",
   "execution_count": 241,
   "metadata": {},
   "outputs": [
    {
     "data": {
      "text/plain": [
       "Text(0.5, 1.0, 'Growth of points by altitude')"
      ]
     },
     "execution_count": 241,
     "metadata": {},
     "output_type": "execute_result"
    },
    {
     "data": {
      "image/png": "[encoded data removed]",
      "text/plain": [
       "<Figure size 640x480 with 1 Axes>"
      ]
     },
     "metadata": {},
     "output_type": "display_data"
    }
   ],
   "source": [
    "plt.plot(\"avg_alt\", \"growth_points\", data=mercedes_filter)\n",
    "plt.xlabel(\"Altitude\")\n",
    "plt.ylabel(\"Average change in growth of points\")\n",
    "plt.title(\"Growth of points by altitude\")"
   ]
  }
 ],
 "metadata": {
  "kernelspec": {
   "display_name": "Python 3",
   "language": "python",
   "name": "python3"
  },
  "language_info": {
   "codemirror_mode": {
    "name": "ipython",
    "version": 3
   },
   "file_extension": ".py",
   "mimetype": "text/x-python",
   "name": "python",
   "nbconvert_exporter": "python",
   "pygments_lexer": "ipython3",
   "version": "3.11.1"
  },
  "orig_nbformat": 4
 },
 "nbformat": 4,
 "nbformat_minor": 2
}
